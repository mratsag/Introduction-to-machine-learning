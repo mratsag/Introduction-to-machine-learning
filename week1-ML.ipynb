{
 "cells": [
  {
   "cell_type": "code",
   "execution_count": 1,
   "id": "initial_id",
   "metadata": {
    "collapsed": true,
    "ExecuteTime": {
     "end_time": "2024-04-14T19:56:41.799847Z",
     "start_time": "2024-04-14T19:56:41.746293Z"
    }
   },
   "outputs": [
    {
     "name": "stdout",
     "output_type": "stream",
     "text": [
      "10\n",
      "20\n",
      "Monday\n"
     ]
    },
    {
     "data": {
      "text/plain": "str"
     },
     "execution_count": 1,
     "metadata": {},
     "output_type": "execute_result"
    }
   ],
   "source": [
    "a=10\n",
    "var1=20\n",
    "x=\"Monday\"\n",
    "\n",
    "print(a)\n",
    "print(var1)\n",
    "print(x)\n",
    "type(x)"
   ]
  },
  {
   "cell_type": "code",
   "outputs": [
    {
     "name": "stdout",
     "output_type": "stream",
     "text": [
      "[10, 20, 30]\n"
     ]
    }
   ],
   "source": [
    "#define a list\n",
    "var1=10\n",
    "var2=10\n",
    "var3=10\n",
    "list_int=[10,20,30]\n",
    "print(list_int)"
   ],
   "metadata": {
    "collapsed": false,
    "ExecuteTime": {
     "end_time": "2024-04-14T20:00:31.898902Z",
     "start_time": "2024-04-14T20:00:31.874531Z"
    }
   },
   "id": "d40584808cad4c8c",
   "execution_count": 2
  },
  {
   "cell_type": "code",
   "outputs": [
    {
     "data": {
      "text/plain": "10"
     },
     "execution_count": 3,
     "metadata": {},
     "output_type": "execute_result"
    }
   ],
   "source": [
    "list_int[0]"
   ],
   "metadata": {
    "collapsed": false,
    "ExecuteTime": {
     "end_time": "2024-04-14T20:00:38.846946Z",
     "start_time": "2024-04-14T20:00:38.839417Z"
    }
   },
   "id": "a51a11cbd842bc6a",
   "execution_count": 3
  },
  {
   "cell_type": "code",
   "outputs": [
    {
     "data": {
      "text/plain": "30"
     },
     "execution_count": 4,
     "metadata": {},
     "output_type": "execute_result"
    }
   ],
   "source": [
    "list_int[-1]"
   ],
   "metadata": {
    "collapsed": false,
    "ExecuteTime": {
     "end_time": "2024-04-14T20:01:28.707386Z",
     "start_time": "2024-04-14T20:01:28.700404Z"
    }
   },
   "id": "6c711702f3dfbfae",
   "execution_count": 4
  },
  {
   "cell_type": "code",
   "outputs": [
    {
     "data": {
      "text/plain": "[10, 20]"
     },
     "execution_count": 5,
     "metadata": {},
     "output_type": "execute_result"
    }
   ],
   "source": [
    "list_int[0:2]"
   ],
   "metadata": {
    "collapsed": false,
    "ExecuteTime": {
     "end_time": "2024-04-14T20:01:40.741896Z",
     "start_time": "2024-04-14T20:01:40.734646Z"
    }
   },
   "id": "b944d3c3e9398991",
   "execution_count": 5
  },
  {
   "cell_type": "code",
   "outputs": [
    {
     "name": "stdout",
     "output_type": "stream",
     "text": [
      "[10, 20, 30, 25]\n"
     ]
    }
   ],
   "source": [
    "#to add variables to the list\n",
    "list_int.append(25)\n",
    "print(list_int)"
   ],
   "metadata": {
    "collapsed": false,
    "ExecuteTime": {
     "end_time": "2024-04-14T20:02:15.303984Z",
     "start_time": "2024-04-14T20:02:15.299621Z"
    }
   },
   "id": "16d9354018259bb6",
   "execution_count": 6
  },
  {
   "cell_type": "code",
   "outputs": [
    {
     "name": "stdout",
     "output_type": "stream",
     "text": [
      "[30, 20, 10]\n"
     ]
    }
   ],
   "source": [
    "#to delete variables to the reverse \n",
    "list_int.remove(25)\n",
    "print(list_int)"
   ],
   "metadata": {
    "collapsed": false,
    "ExecuteTime": {
     "end_time": "2024-04-14T20:03:08.664610Z",
     "start_time": "2024-04-14T20:03:08.658861Z"
    }
   },
   "id": "6642c632da0374f9",
   "execution_count": 9
  },
  {
   "cell_type": "code",
   "outputs": [
    {
     "name": "stdout",
     "output_type": "stream",
     "text": [
      "[10, 20, 30]\n"
     ]
    }
   ],
   "source": [
    "#to sort the list from smallest to largest\n",
    "list_int.sort()\n",
    "print(list_int)"
   ],
   "metadata": {
    "collapsed": false,
    "ExecuteTime": {
     "end_time": "2024-04-14T20:03:25.613115Z",
     "start_time": "2024-04-14T20:03:25.608403Z"
    }
   },
   "id": "5ea55eea1856f27f",
   "execution_count": 10
  },
  {
   "cell_type": "code",
   "outputs": [
    {
     "name": "stdout",
     "output_type": "stream",
     "text": [
      "[30, 20, 10]\n"
     ]
    }
   ],
   "source": [
    "#to print the list in reverse\n",
    "list_int.reverse()\n",
    "print(list_int)"
   ],
   "metadata": {
    "collapsed": false,
    "ExecuteTime": {
     "end_time": "2024-04-14T20:04:13.858195Z",
     "start_time": "2024-04-14T20:04:13.851689Z"
    }
   },
   "id": "6327ffa4d7a3c73d",
   "execution_count": 11
  },
  {
   "cell_type": "code",
   "outputs": [
    {
     "name": "stdout",
     "output_type": "stream",
     "text": [
      "30\n"
     ]
    }
   ],
   "source": [
    "#to find maximum element with for loop\n",
    "x=10\n",
    "for each in list_int:\n",
    "    if(each>x):\n",
    "        x=each\n",
    "    else:\n",
    "        continue\n",
    "        \n",
    "print(x)"
   ],
   "metadata": {
    "collapsed": false,
    "ExecuteTime": {
     "end_time": "2024-04-14T20:05:43.031185Z",
     "start_time": "2024-04-14T20:05:43.024325Z"
    }
   },
   "id": "d22e1d65ba3e12bc",
   "execution_count": 12
  },
  {
   "cell_type": "code",
   "outputs": [
    {
     "name": "stdout",
     "output_type": "stream",
     "text": [
      "0\n",
      "1\n",
      "2\n",
      "3\n",
      "4\n"
     ]
    }
   ],
   "source": [
    "#to print from 0 to 5 with while loop(5 is not included)\n",
    "i=0\n",
    "while(i<5):\n",
    "    print(i)\n",
    "    i=i+1"
   ],
   "metadata": {
    "collapsed": false,
    "ExecuteTime": {
     "end_time": "2024-04-14T20:06:41.453947Z",
     "start_time": "2024-04-14T20:06:41.449515Z"
    }
   },
   "id": "fdb7d175a06bf907",
   "execution_count": 13
  },
  {
   "cell_type": "code",
   "outputs": [
    {
     "data": {
      "text/plain": "12.56"
     },
     "execution_count": 17,
     "metadata": {},
     "output_type": "execute_result"
    }
   ],
   "source": [
    "#to use function\n",
    "def circle_perimeter(r,pi=3.14):\n",
    "    result=2*pi*r\n",
    "    return result\n",
    "circle_perimeter(2)"
   ],
   "metadata": {
    "collapsed": false,
    "ExecuteTime": {
     "end_time": "2024-04-14T20:09:39.754175Z",
     "start_time": "2024-04-14T20:09:39.748088Z"
    }
   },
   "id": "af92592a6d959f59",
   "execution_count": 17
  },
  {
   "cell_type": "code",
   "outputs": [
    {
     "data": {
      "text/plain": "25"
     },
     "execution_count": 18,
     "metadata": {},
     "output_type": "execute_result"
    }
   ],
   "source": [
    "#another example for function\n",
    "def calculate(x):\n",
    "    result=x*x\n",
    "    return result\n",
    "calculate(5)"
   ],
   "metadata": {
    "collapsed": false,
    "ExecuteTime": {
     "end_time": "2024-04-14T20:10:32.409337Z",
     "start_time": "2024-04-14T20:10:32.401399Z"
    }
   },
   "id": "883affd464aa8c34",
   "execution_count": 18
  },
  {
   "cell_type": "code",
   "outputs": [
    {
     "name": "stdout",
     "output_type": "stream",
     "text": [
      "25\n"
     ]
    }
   ],
   "source": [
    "#shorter way to use function is lambda \n",
    "result= lambda x:x*x\n",
    "print(result(5))"
   ],
   "metadata": {
    "collapsed": false,
    "ExecuteTime": {
     "end_time": "2024-04-14T20:11:17.036432Z",
     "start_time": "2024-04-14T20:11:17.032442Z"
    }
   },
   "id": "6e869251d40ccdac",
   "execution_count": 19
  },
  {
   "cell_type": "code",
   "outputs": [
    {
     "name": "stdout",
     "output_type": "stream",
     "text": [
      "{'Murat': 22, 'Ahmet': 22, 'Betül': 23}\n"
     ]
    }
   ],
   "source": [
    "#to use dictionary \n",
    "dictionary={\"Murat\":22,\"Ahmet\":22,\"Betül\":23}\n",
    "print(dictionary)"
   ],
   "metadata": {
    "collapsed": false,
    "ExecuteTime": {
     "end_time": "2024-04-14T20:12:48.204203Z",
     "start_time": "2024-04-14T20:12:48.200009Z"
    }
   },
   "id": "abd4bde1e9875ee3",
   "execution_count": 21
  },
  {
   "cell_type": "code",
   "outputs": [
    {
     "data": {
      "text/plain": "dict"
     },
     "execution_count": 22,
     "metadata": {},
     "output_type": "execute_result"
    }
   ],
   "source": [
    "type(dictionary)"
   ],
   "metadata": {
    "collapsed": false,
    "ExecuteTime": {
     "end_time": "2024-04-14T20:12:55.555834Z",
     "start_time": "2024-04-14T20:12:55.551330Z"
    }
   },
   "id": "7b1fc16c9f6fe470",
   "execution_count": 22
  },
  {
   "cell_type": "code",
   "outputs": [
    {
     "data": {
      "text/plain": "dict_keys(['Murat', 'Ahmet', 'Betül'])"
     },
     "execution_count": 23,
     "metadata": {},
     "output_type": "execute_result"
    }
   ],
   "source": [
    "dictionary.keys()"
   ],
   "metadata": {
    "collapsed": false,
    "ExecuteTime": {
     "end_time": "2024-04-14T20:13:18.521157Z",
     "start_time": "2024-04-14T20:13:18.514528Z"
    }
   },
   "id": "c6a71509a0d95de6",
   "execution_count": 23
  },
  {
   "cell_type": "code",
   "outputs": [
    {
     "data": {
      "text/plain": "dict_values([22, 22, 23])"
     },
     "execution_count": 24,
     "metadata": {},
     "output_type": "execute_result"
    }
   ],
   "source": [
    "dictionary.values()"
   ],
   "metadata": {
    "collapsed": false,
    "ExecuteTime": {
     "end_time": "2024-04-14T20:13:52.002513Z",
     "start_time": "2024-04-14T20:13:51.997239Z"
    }
   },
   "id": "dbc72fbefe3f0c62",
   "execution_count": 24
  },
  {
   "cell_type": "code",
   "outputs": [
    {
     "name": "stdout",
     "output_type": "stream",
     "text": [
      "yes\n"
     ]
    }
   ],
   "source": [
    "#to find out if the keys is in the dictionary \n",
    "b=dictionary.keys()\n",
    "\n",
    "if \"Murat\" in b:\n",
    "    print(\"yes\")\n",
    "else:\n",
    "    print(\"no\")"
   ],
   "metadata": {
    "collapsed": false,
    "ExecuteTime": {
     "end_time": "2024-04-14T20:14:48.759363Z",
     "start_time": "2024-04-14T20:14:48.754484Z"
    }
   },
   "id": "3bef16768a2af9c3",
   "execution_count": 25
  },
  {
   "cell_type": "code",
   "outputs": [],
   "source": [],
   "metadata": {
    "collapsed": false
   },
   "id": "8ecdfa4e7bcf4d5b"
  }
 ],
 "metadata": {
  "kernelspec": {
   "display_name": "Python 3",
   "language": "python",
   "name": "python3"
  },
  "language_info": {
   "codemirror_mode": {
    "name": "ipython",
    "version": 2
   },
   "file_extension": ".py",
   "mimetype": "text/x-python",
   "name": "python",
   "nbconvert_exporter": "python",
   "pygments_lexer": "ipython2",
   "version": "2.7.6"
  }
 },
 "nbformat": 4,
 "nbformat_minor": 5
}
